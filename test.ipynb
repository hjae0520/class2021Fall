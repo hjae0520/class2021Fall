{
  "nbformat": 4,
  "nbformat_minor": 0,
  "metadata": {
    "colab": {
      "name": "test.ipynb",
      "provenance": [],
      "collapsed_sections": [],
      "authorship_tag": "ABX9TyP4pRd4oJgWFJe7tLw6a2OI",
      "include_colab_link": true
    },
    "kernelspec": {
      "name": "python3",
      "display_name": "Python 3"
    },
    "language_info": {
      "name": "python"
    }
  },
  "cells": [
    {
      "cell_type": "markdown",
      "metadata": {
        "id": "view-in-github",
        "colab_type": "text"
      },
      "source": [
        "<a href=\"https://colab.research.google.com/github/hjae0520/class2021Fall/blob/main/test.ipynb\" target=\"_parent\"><img src=\"https://colab.research.google.com/assets/colab-badge.svg\" alt=\"Open In Colab\"/></a>"
      ]
    },
    {
      "cell_type": "markdown",
      "metadata": {
        "id": "vWCzKYqp804e"
      },
      "source": [
        "코딩의 세가지\n",
        "변수 (variables) 제어문 (syntax) 함수\n",
        "'a = 1' a라는 변수에 1이라는 값을 할당(=), 숫자뿐만 아니라 글자도 대입 가능.\n",
        " print는 대입된 값을 확인\n",
        " type은 변수의 클래스를 보여줌\n",
        " '#'을 붙이면 그 함수는 실행하지 않음\n",
        "int 정수, float 소수, string 문자, list는 여러가지를 나열한 것, dictionary\n",
        "index: print [n번째] -> 첫번째부터 0, 중첩가능\n",
        "dictionary 는 위의 방식으로 index X. 표제어: 의미, 표제어를 통해 의미를 print\n",
        "\n"
      ]
    },
    {
      "cell_type": "code",
      "metadata": {
        "colab": {
          "base_uri": "https://localhost:8080/"
        },
        "id": "lr-QU9at7g_1",
        "outputId": "cb14be53-4d13-41f1-9b13-e9af139fb9e4"
      },
      "source": [
        "a = 1\n",
        "b = 'hello'\n",
        "c = 1.1\n",
        "d = [1, 'abc', 2.1]\n",
        "e = {\"apple\": \"red fruit\", \"banana\": \"yellow fruit\"}\n",
        "\n",
        "#print(a)\n",
        "\n",
        "#print(type(a))\n",
        "#print(type(b))\n",
        "#print(type(c))\n",
        "#print(type(d))\n",
        "\n",
        "#print(b[0:2])\n",
        "#print(d[1][1])\n",
        "\n",
        "print(type(e))\n",
        "print(e[\"apple\"])"
      ],
      "execution_count": 17,
      "outputs": [
        {
          "output_type": "stream",
          "name": "stdout",
          "text": [
            "<class 'dict'>\n",
            "red fruit\n"
          ]
        }
      ]
    }
  ]
}