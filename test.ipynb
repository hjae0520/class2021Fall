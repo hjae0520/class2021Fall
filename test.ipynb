{
  "nbformat": 4,
  "nbformat_minor": 0,
  "metadata": {
    "colab": {
      "name": "test.ipynb",
      "provenance": [],
      "collapsed_sections": [],
      "authorship_tag": "ABX9TyMSOa3RsrIW/S6/6TLORex0",
      "include_colab_link": true
    },
    "kernelspec": {
      "name": "python3",
      "display_name": "Python 3"
    },
    "language_info": {
      "name": "python"
    }
  },
  "cells": [
    {
      "cell_type": "markdown",
      "metadata": {
        "id": "view-in-github",
        "colab_type": "text"
      },
      "source": [
        "<a href=\"https://colab.research.google.com/github/hjae0520/class2021Fall/blob/main/test.ipynb\" target=\"_parent\"><img src=\"https://colab.research.google.com/assets/colab-badge.svg\" alt=\"Open In Colab\"/></a>"
      ]
    },
    {
      "cell_type": "markdown",
      "metadata": {
        "id": "vWCzKYqp804e"
      },
      "source": [
        "코딩의 세가지\n",
        "변수 (variables) 제어문 (syntax) 함수\n",
        "variables = 언어의 단어\n",
        "'a = 1' a라는 변수에 1이라는 값을 할당(=), 숫자뿐만 아니라 글자도 대입 가능.\n",
        "but 1이라는 변수에 5를 넣는 (1=5) 것은 안 됨 (a123 = 5는 가능)\n",
        "변수는 항상 overwrite된다\n",
        " print는 대입된 값을 확인\n",
        " type은 변수의 클래스를 보여줌\n",
        " '#'을 붙이면 그 함수는 실행하지 않음\n",
        "int 정수, float 소수, string 문자, list는 여러가지를 나열한 것, dictionary\n",
        "index: print [n번째] -> 첫번째부터 0, 중첩가능\n",
        "dictionary 는 위의 방식으로 index X. {표제어: 의미}, 표제어를 통해 의미를 print\n",
        "list안에 list가 들어갈 수 있다 ex. [1, 'a', [3. '4']]\n",
        "dic과 list의 유사성과 차이점(dic은 0, 1번째 등으로 access하는 것이 아니라 a, b, c 등으로 access) ex) {a: \"apple\", b: \"banana\"} -> a[a] O, a[0] X\n",
        "\n",
        "for는 여러 번 반복, if는 ~~할 때만 작동\n",
        "\"for 'A' in 'B': \"= B에 있는 것에서 제일 첫번째부터 마지막까지 A라는 변수에 넣어 반복하라. + print A --> for loop, ':'이 있어야 작동함\n",
        "indentation은 for에 종속되어 있다는 것을 의미\n",
        "\n",
        "if A == B: 만약 A와 B가 같다면 (<=> 그냥 =은 대입)\n",
        "else: 그렇지 않으면,\n"
      ]
    },
    {
      "cell_type": "code",
      "metadata": {
        "colab": {
          "base_uri": "https://localhost:8080/"
        },
        "id": "lr-QU9at7g_1",
        "outputId": "cb14be53-4d13-41f1-9b13-e9af139fb9e4"
      },
      "source": [
        "a = 1\n",
        "b = 'hello'\n",
        "c = 1.1\n",
        "d = [1, 'abc', 2.1]\n",
        "e = {\"apple\": \"red fruit\", \"banana\": \"yellow fruit\"}\n",
        "\n",
        "#print(a)\n",
        "\n",
        "#print(type(a))\n",
        "#print(type(b))\n",
        "#print(type(c))\n",
        "#print(type(d))\n",
        "\n",
        "#print(b[0:2])\n",
        "#print(d[1][1])\n",
        "\n",
        "print(type(e))\n",
        "print(e[\"apple\"])"
      ],
      "execution_count": null,
      "outputs": [
        {
          "output_type": "stream",
          "name": "stdout",
          "text": [
            "<class 'dict'>\n",
            "red fruit\n"
          ]
        }
      ]
    },
    {
      "cell_type": "markdown",
      "metadata": {
        "id": "hubLizCqRVl9"
      },
      "source": [
        "function: 입력과 출력을 가질 수 있다 ex) print (1) - 입력=1, 출력 X\n",
        "len(입력): list의 길이를 출력\n",
        "한 셀에 마지막의 경우 굳이 print하지 않아도 출력함, but print있으면 print 값만\n",
        "\n",
        "for 'A' in range (B) --> B번째의 index까지 print\n",
        "len (A): list A의 길이(length)를 찾아 줌, 문자의 경우 글자 수\n"
      ]
    },
    {
      "cell_type": "code",
      "metadata": {
        "colab": {
          "base_uri": "https://localhost:8080/"
        },
        "id": "p5fKZMUXRQzR",
        "outputId": "8519bf28-320d-46d4-8277-10daaa2eada0"
      },
      "source": [
        "a = [1, 2, 3, 4]\n",
        "len(a)\n",
        "print('h')\n",
        "\n",
        "#a = [1, 2, 3, 4]\n",
        "#b = len(a)"
      ],
      "execution_count": 2,
      "outputs": [
        {
          "output_type": "stream",
          "name": "stdout",
          "text": [
            "h\n"
          ]
        }
      ]
    },
    {
      "cell_type": "code",
      "metadata": {
        "colab": {
          "base_uri": "https://localhost:8080/"
        },
        "id": "TXspvasdVlor",
        "outputId": "d938989a-a2f2-403a-bbf7-0ac70090d3e2"
      },
      "source": [
        "len ('testify')"
      ],
      "execution_count": 7,
      "outputs": [
        {
          "output_type": "execute_result",
          "data": {
            "text/plain": [
              "7"
            ]
          },
          "metadata": {},
          "execution_count": 7
        }
      ]
    },
    {
      "cell_type": "markdown",
      "metadata": {
        "id": "loZKW3B1TjJm"
      },
      "source": [
        "range(4) -> 4번 반복, range(1, 3): 1~(3-1)의 범위 = 1, 2\n",
        "밑의 경우 outer loop는 1, 2 두 번 돌고, inner loop도 두 번 돌게 됨 (3, 4)\n",
        "총 loop는 2x2=4번"
      ]
    },
    {
      "cell_type": "code",
      "metadata": {
        "colab": {
          "base_uri": "https://localhost:8080/"
        },
        "id": "KDkHsOxwSx4H",
        "outputId": "b4a6af43-07a1-4ae8-9ef2-9f277f21c279"
      },
      "source": [
        "for i in range(1,3):\n",
        "  for j in range(3, 5):\n",
        "    print(i*j)"
      ],
      "execution_count": 3,
      "outputs": [
        {
          "output_type": "stream",
          "name": "stdout",
          "text": [
            "3\n",
            "4\n",
            "6\n",
            "8\n"
          ]
        }
      ]
    },
    {
      "cell_type": "code",
      "metadata": {
        "colab": {
          "base_uri": "https://localhost:8080/"
        },
        "id": "iXotVz6MTvpt",
        "outputId": "2bbf1a70-fce8-4ea7-b43b-7220560f0654"
      },
      "source": [
        "for i in range(1,3):\n",
        "  for j in range(3, 5):\n",
        "    if j>=4:\n",
        "      print(i*j)"
      ],
      "execution_count": 4,
      "outputs": [
        {
          "output_type": "stream",
          "name": "stdout",
          "text": [
            "4\n",
            "8\n"
          ]
        }
      ]
    },
    {
      "cell_type": "markdown",
      "metadata": {
        "id": "hZ7vQOsbUQO8"
      },
      "source": [
        "list comprehension\n",
        "b = [i for i in a if i>=2]\n",
        "= b를 i로 채워서 list를 만드는데, 그 조건은 다음과 같다\n",
        "for i in a\n",
        "    if i >= 2\n",
        "-> python의 고유 기능\n",
        "마지막 b -> 셀의 마지막일 경우 print 안 써도 됨"
      ]
    },
    {
      "cell_type": "code",
      "metadata": {
        "colab": {
          "base_uri": "https://localhost:8080/"
        },
        "id": "_80PyeLeUHkt",
        "outputId": "dea35d1d-2d82-450c-83ac-2fbbcc618915"
      },
      "source": [
        "a = [1, 2, 3, 4]\n",
        "b = [i for i in a if i>=2]\n",
        "b"
      ],
      "execution_count": 5,
      "outputs": [
        {
          "output_type": "execute_result",
          "data": {
            "text/plain": [
              "[2, 3, 4]"
            ]
          },
          "metadata": {},
          "execution_count": 5
        }
      ]
    },
    {
      "cell_type": "code",
      "metadata": {
        "colab": {
          "base_uri": "https://localhost:8080/"
        },
        "id": "UnGwKQirVDZX",
        "outputId": "2b794e98-454d-4de8-be7a-a69410400049"
      },
      "source": [
        "a = ['red', 'green', 'blue', 'purple']\n",
        "b = [i for i in a if len(i) >= 4]\n",
        "b"
      ],
      "execution_count": 6,
      "outputs": [
        {
          "output_type": "execute_result",
          "data": {
            "text/plain": [
              "['green', 'blue', 'purple']"
            ]
          },
          "metadata": {},
          "execution_count": 6
        }
      ]
    },
    {
      "cell_type": "markdown",
      "metadata": {
        "id": "1Dtww7dwWncR"
      },
      "source": [
        "function *정의* --> def ~ return\n",
        "실행을 해야 메모리 상에 적용됨"
      ]
    },
    {
      "cell_type": "code",
      "metadata": {
        "colab": {
          "base_uri": "https://localhost:8080/"
        },
        "id": "_VWwaBrbXwff",
        "outputId": "9c3a9ba9-cac8-4dd6-fe49-848ceb71c96a"
      },
      "source": [
        "def add(a,b):\n",
        "  return a+b\n",
        "\n",
        "def substract(a,b):\n",
        "  return a-b\n",
        "\n",
        "def multiply (a,b):\n",
        "  return a*b\n",
        "\n",
        "def divide (a,b):\n",
        "  return a/b\n",
        "\n",
        "def MFF(a, b, c):\n",
        "  d = a+b\n",
        "  e = d*4\n",
        "  f = e/c\n",
        "  return f\n",
        "\n",
        "K = MFF (3, 4, 5)\n",
        "print (K)"
      ],
      "execution_count": 11,
      "outputs": [
        {
          "output_type": "stream",
          "name": "stdout",
          "text": [
            "5.6\n"
          ]
        }
      ]
    },
    {
      "cell_type": "markdown",
      "metadata": {
        "id": "XNNcWABoab3e"
      },
      "source": [
        "함수는 입출력이 반드시 존재해야 하는 것이 아님 but 함수 ()는 써줘야 함\n",
        "즉, 함수는 입력과 출력을 받을 수 있지만, 꼭 명시해야 하는 것은 아니다."
      ]
    },
    {
      "cell_type": "code",
      "metadata": {
        "id": "FbbrSlyZY17C"
      },
      "source": [
        "def testfunc():\n",
        "  a = 1\n",
        "  b = 2\n",
        "  c = a + b\n",
        "  return c"
      ],
      "execution_count": 13,
      "outputs": []
    },
    {
      "cell_type": "code",
      "metadata": {
        "colab": {
          "base_uri": "https://localhost:8080/"
        },
        "id": "NgrLTEC1awue",
        "outputId": "c4171676-070c-410e-8c70-6377247d3729"
      },
      "source": [
        "d = testfunc()\n",
        "print (d)"
      ],
      "execution_count": 14,
      "outputs": [
        {
          "output_type": "stream",
          "name": "stdout",
          "text": [
            "3\n"
          ]
        }
      ]
    },
    {
      "cell_type": "markdown",
      "metadata": {
        "id": "N8iAuv_aa--_"
      },
      "source": [
        "import: library(파이썬 패키지)를 불러 옴\n",
        "import numpy as np -> numpy = np\n",
        "n = np.random.randn(100)\n",
        "--> numpy 하에 random 하에 randn이라는 함수를 불러오겠다"
      ]
    }
  ]
}