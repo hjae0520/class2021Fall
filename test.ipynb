{
  "nbformat": 4,
  "nbformat_minor": 0,
  "metadata": {
    "colab": {
      "name": "test.ipynb",
      "provenance": [],
      "collapsed_sections": [],
      "authorship_tag": "ABX9TyMoog1ARi8+AlyWdZ9ZI1uU",
      "include_colab_link": true
    },
    "kernelspec": {
      "name": "python3",
      "display_name": "Python 3"
    },
    "language_info": {
      "name": "python"
    }
  },
  "cells": [
    {
      "cell_type": "markdown",
      "metadata": {
        "id": "view-in-github",
        "colab_type": "text"
      },
      "source": [
        "<a href=\"https://colab.research.google.com/github/hjae0520/class2021Fall/blob/main/test.ipynb\" target=\"_parent\"><img src=\"https://colab.research.google.com/assets/colab-badge.svg\" alt=\"Open In Colab\"/></a>"
      ]
    },
    {
      "cell_type": "markdown",
      "metadata": {
        "id": "vWCzKYqp804e"
      },
      "source": [
        "코딩의 세가지\n",
        "변수 (variables) 제어문 (syntax) 함수\n",
        "'a = 1' a라는 변수에 1이라는 값을 할당(=), 숫자뿐만 아니라 글자도 대입 가능.\n",
        " print는 대입된 값을 확인\n",
        " type은 변수의 클래스를 보여줌\n",
        " '#'을 붙이면 그 함수는 실행하지 않음\n",
        "int 정수, float 소수, string 문자, list는 여러가지를 나열한 것\n"
      ]
    },
    {
      "cell_type": "code",
      "metadata": {
        "colab": {
          "base_uri": "https://localhost:8080/"
        },
        "id": "lr-QU9at7g_1",
        "outputId": "39b3ac9c-25f3-4668-cab7-c8a7dd195cd2"
      },
      "source": [
        "a = 1\n",
        "b = 'hello'\n",
        "c = 1.1\n",
        "d = [1, 'abc', 2.1]\n",
        "\n",
        "#print(a)\n",
        "\n",
        "print(type(a))\n",
        "print(type(b))\n",
        "print(type(d))"
      ],
      "execution_count": 6,
      "outputs": [
        {
          "output_type": "stream",
          "name": "stdout",
          "text": [
            "<class 'int'>\n",
            "<class 'str'>\n",
            "<class 'list'>\n"
          ]
        }
      ]
    }
  ]
}