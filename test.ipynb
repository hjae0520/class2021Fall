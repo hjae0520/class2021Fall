{
  "nbformat": 4,
  "nbformat_minor": 0,
  "metadata": {
    "colab": {
      "name": "test.ipynb",
      "provenance": [],
      "collapsed_sections": [],
      "authorship_tag": "ABX9TyM6mbSWob7ExcCS8Lzbs0D8",
      "include_colab_link": true
    },
    "kernelspec": {
      "name": "python3",
      "display_name": "Python 3"
    },
    "language_info": {
      "name": "python"
    }
  },
  "cells": [
    {
      "cell_type": "markdown",
      "metadata": {
        "id": "view-in-github",
        "colab_type": "text"
      },
      "source": [
        "<a href=\"https://colab.research.google.com/github/hjae0520/class2021Fall/blob/main/test.ipynb\" target=\"_parent\"><img src=\"https://colab.research.google.com/assets/colab-badge.svg\" alt=\"Open In Colab\"/></a>"
      ]
    },
    {
      "cell_type": "markdown",
      "metadata": {
        "id": "vWCzKYqp804e"
      },
      "source": [
        "코딩의 세가지\n",
        "변수 (variables) 제어문 (syntax) 함수\n",
        "variables = 언어의 단어\n",
        "'a = 1' a라는 변수에 1이라는 값을 할당(=), 숫자뿐만 아니라 글자도 대입 가능.\n",
        "but 1이라는 변수에 5를 넣는 (1=5) 것은 안 됨 (a123 = 5는 가능)\n",
        "변수는 항상 overwrite된다\n",
        " print는 대입된 값을 확인\n",
        " type은 변수의 클래스를 보여줌\n",
        " '#'을 붙이면 그 함수는 실행하지 않음\n",
        "int 정수, float 소수, string 문자, list는 여러가지를 나열한 것, dictionary\n",
        "index: print [n번째] -> 첫번째부터 0, 중첩가능\n",
        "dictionary 는 위의 방식으로 index X. {표제어: 의미}, 표제어를 통해 의미를 print\n",
        "list안에 list가 들어갈 수 있다 ex. [1, 'a', [3. '4']]\n",
        "dic과 list의 유사성과 차이점(dic은 0, 1번째 등으로 access하는 것이 아니라 a, b, c 등으로 access) ex) {a: \"apple\", b: \"banana\"} -> a[a] O, a[0] X\n",
        "\n",
        "for는 여러 번 반복, if는 ~~할 때만 작동\n",
        "\"for 'A' in 'B': \"= B에 있는 것에서 제일 첫번째부터 마지막까지 A라는 변수에 넣어 반복하라. + print A --> for loop, ':'이 있어야 작동함\n",
        "indentation은 for에 종속되어 있다는 것을 의미\n",
        "\n",
        "if A == B: 만약 A와 B가 같다면 (<=> 그냥 =은 대입)\n",
        "else: 그렇지 않으면,\n"
      ]
    },
    {
      "cell_type": "code",
      "metadata": {
        "colab": {
          "base_uri": "https://localhost:8080/"
        },
        "id": "lr-QU9at7g_1",
        "outputId": "cb14be53-4d13-41f1-9b13-e9af139fb9e4"
      },
      "source": [
        "a = 1\n",
        "b = 'hello'\n",
        "c = 1.1\n",
        "d = [1, 'abc', 2.1]\n",
        "e = {\"apple\": \"red fruit\", \"banana\": \"yellow fruit\"}\n",
        "\n",
        "#print(a)\n",
        "\n",
        "#print(type(a))\n",
        "#print(type(b))\n",
        "#print(type(c))\n",
        "#print(type(d))\n",
        "\n",
        "#print(b[0:2])\n",
        "#print(d[1][1])\n",
        "\n",
        "print(type(e))\n",
        "print(e[\"apple\"])"
      ],
      "execution_count": null,
      "outputs": [
        {
          "output_type": "stream",
          "name": "stdout",
          "text": [
            "<class 'dict'>\n",
            "red fruit\n"
          ]
        }
      ]
    },
    {
      "cell_type": "markdown",
      "metadata": {
        "id": "hubLizCqRVl9"
      },
      "source": [
        "function: 입력과 출력을 가질 수 있다 ex) print (1) - 입력=1, 출력 X\n",
        "len(입력): list의 길이를 출력\n",
        "한 셀에 마지막의 경우 굳이 print하지 않아도 출력함, but print있으면 print 값만\n",
        "\n",
        "for 'A' in range (B) --> B번째의 index까지 print\n",
        "len (A): list A의 길이(length)를 찾아 줌, 문자의 경우 글자 수\n"
      ]
    },
    {
      "cell_type": "code",
      "metadata": {
        "colab": {
          "base_uri": "https://localhost:8080/"
        },
        "id": "p5fKZMUXRQzR",
        "outputId": "8519bf28-320d-46d4-8277-10daaa2eada0"
      },
      "source": [
        "a = [1, 2, 3, 4]\n",
        "len(a)\n",
        "print('h')\n",
        "\n",
        "#a = [1, 2, 3, 4]\n",
        "#b = len(a)"
      ],
      "execution_count": null,
      "outputs": [
        {
          "output_type": "stream",
          "name": "stdout",
          "text": [
            "h\n"
          ]
        }
      ]
    },
    {
      "cell_type": "code",
      "metadata": {
        "colab": {
          "base_uri": "https://localhost:8080/"
        },
        "id": "TXspvasdVlor",
        "outputId": "d938989a-a2f2-403a-bbf7-0ac70090d3e2"
      },
      "source": [
        "len ('testify')"
      ],
      "execution_count": null,
      "outputs": [
        {
          "output_type": "execute_result",
          "data": {
            "text/plain": [
              "7"
            ]
          },
          "metadata": {},
          "execution_count": 7
        }
      ]
    },
    {
      "cell_type": "markdown",
      "metadata": {
        "id": "loZKW3B1TjJm"
      },
      "source": [
        "range(4) -> 4번 반복, range(1, 3): 1~(3-1)의 범위 = 1, 2\n",
        "밑의 경우 outer loop는 1, 2 두 번 돌고, inner loop도 두 번 돌게 됨 (3, 4)\n",
        "총 loop는 2x2=4번"
      ]
    },
    {
      "cell_type": "code",
      "metadata": {
        "colab": {
          "base_uri": "https://localhost:8080/"
        },
        "id": "KDkHsOxwSx4H",
        "outputId": "b4a6af43-07a1-4ae8-9ef2-9f277f21c279"
      },
      "source": [
        "for i in range(1,3):\n",
        "  for j in range(3, 5):\n",
        "    print(i*j)"
      ],
      "execution_count": null,
      "outputs": [
        {
          "output_type": "stream",
          "name": "stdout",
          "text": [
            "3\n",
            "4\n",
            "6\n",
            "8\n"
          ]
        }
      ]
    },
    {
      "cell_type": "code",
      "metadata": {
        "colab": {
          "base_uri": "https://localhost:8080/"
        },
        "id": "iXotVz6MTvpt",
        "outputId": "2bbf1a70-fce8-4ea7-b43b-7220560f0654"
      },
      "source": [
        "for i in range(1,3):\n",
        "  for j in range(3, 5):\n",
        "    if j>=4:\n",
        "      print(i*j)"
      ],
      "execution_count": null,
      "outputs": [
        {
          "output_type": "stream",
          "name": "stdout",
          "text": [
            "4\n",
            "8\n"
          ]
        }
      ]
    },
    {
      "cell_type": "markdown",
      "metadata": {
        "id": "hZ7vQOsbUQO8"
      },
      "source": [
        "list comprehension\n",
        "b = [i for i in a if i>=2]\n",
        "= b를 i로 채워서 list를 만드는데, 그 조건은 다음과 같다\n",
        "for i in a\n",
        "    if i >= 2\n",
        "-> python의 고유 기능\n",
        "마지막 b -> 셀의 마지막일 경우 print 안 써도 됨"
      ]
    },
    {
      "cell_type": "code",
      "metadata": {
        "colab": {
          "base_uri": "https://localhost:8080/"
        },
        "id": "_80PyeLeUHkt",
        "outputId": "dea35d1d-2d82-450c-83ac-2fbbcc618915"
      },
      "source": [
        "a = [1, 2, 3, 4]\n",
        "b = [i for i in a if i>=2]\n",
        "b"
      ],
      "execution_count": null,
      "outputs": [
        {
          "output_type": "execute_result",
          "data": {
            "text/plain": [
              "[2, 3, 4]"
            ]
          },
          "metadata": {},
          "execution_count": 5
        }
      ]
    },
    {
      "cell_type": "code",
      "metadata": {
        "colab": {
          "base_uri": "https://localhost:8080/"
        },
        "id": "UnGwKQirVDZX",
        "outputId": "2b794e98-454d-4de8-be7a-a69410400049"
      },
      "source": [
        "a = ['red', 'green', 'blue', 'purple']\n",
        "b = [i for i in a if len(i) >= 4]\n",
        "b"
      ],
      "execution_count": null,
      "outputs": [
        {
          "output_type": "execute_result",
          "data": {
            "text/plain": [
              "['green', 'blue', 'purple']"
            ]
          },
          "metadata": {},
          "execution_count": 6
        }
      ]
    },
    {
      "cell_type": "markdown",
      "metadata": {
        "id": "1Dtww7dwWncR"
      },
      "source": [
        "function *정의* --> def ~ return\n",
        "실행을 해야 메모리 상에 적용됨"
      ]
    },
    {
      "cell_type": "code",
      "metadata": {
        "colab": {
          "base_uri": "https://localhost:8080/"
        },
        "id": "_VWwaBrbXwff",
        "outputId": "9c3a9ba9-cac8-4dd6-fe49-848ceb71c96a"
      },
      "source": [
        "def add(a,b):\n",
        "  return a+b\n",
        "\n",
        "def substract(a,b):\n",
        "  return a-b\n",
        "\n",
        "def multiply (a,b):\n",
        "  return a*b\n",
        "\n",
        "def divide (a,b):\n",
        "  return a/b\n",
        "\n",
        "def MFF(a, b, c):\n",
        "  d = a+b\n",
        "  e = d*4\n",
        "  f = e/c\n",
        "  return f\n",
        "\n",
        "K = MFF (3, 4, 5)\n",
        "print (K)"
      ],
      "execution_count": null,
      "outputs": [
        {
          "output_type": "stream",
          "name": "stdout",
          "text": [
            "5.6\n"
          ]
        }
      ]
    },
    {
      "cell_type": "markdown",
      "metadata": {
        "id": "XNNcWABoab3e"
      },
      "source": [
        "함수는 입출력이 반드시 존재해야 하는 것이 아님 but 함수 ()는 써줘야 함\n",
        "즉, 함수는 입력과 출력을 받을 수 있지만, 꼭 명시해야 하는 것은 아니다."
      ]
    },
    {
      "cell_type": "code",
      "metadata": {
        "id": "FbbrSlyZY17C"
      },
      "source": [
        "def testfunc():\n",
        "  a = 1\n",
        "  b = 2\n",
        "  c = a + b\n",
        "  return c"
      ],
      "execution_count": null,
      "outputs": []
    },
    {
      "cell_type": "code",
      "metadata": {
        "colab": {
          "base_uri": "https://localhost:8080/"
        },
        "id": "NgrLTEC1awue",
        "outputId": "c4171676-070c-410e-8c70-6377247d3729"
      },
      "source": [
        "d = testfunc()\n",
        "print (d)"
      ],
      "execution_count": null,
      "outputs": [
        {
          "output_type": "stream",
          "name": "stdout",
          "text": [
            "3\n"
          ]
        }
      ]
    },
    {
      "cell_type": "markdown",
      "metadata": {
        "id": "N8iAuv_aa--_"
      },
      "source": [
        "import: library(파이썬 패키지: 다른 사람이 만들어 놓은 함수의 집합)를 불러 옴\n",
        "import numpy as np -> numpy = np\n",
        "n = np.random.randn(100)\n",
        "--> numpy 하에 random 하에 randn이라는 함수를 불러오겠다\n",
        "randn(100) = 100개의 랜덤한 숫자를 생성"
      ]
    },
    {
      "cell_type": "code",
      "metadata": {
        "colab": {
          "base_uri": "https://localhost:8080/"
        },
        "id": "_ayFXQNpfSLG",
        "outputId": "907a2227-1bfb-401c-82fa-886064cb80b6"
      },
      "source": [
        "#import numpy\n",
        "import numpy as np\n",
        "n = numpy.random.randn(10)\n",
        "print(n)"
      ],
      "execution_count": 12,
      "outputs": [
        {
          "output_type": "stream",
          "name": "stdout",
          "text": [
            "[ 1.41227253  3.0932731  -1.27805991  1.26486278  0.27679346 -2.35287769\n",
            "  2.08784432  0.49024809 -0.02447541  0.90662906]\n"
          ]
        }
      ]
    },
    {
      "cell_type": "markdown",
      "metadata": {
        "id": "Jjy3BvpNgNkv"
      },
      "source": [
        "matplot lib --> plotting하는 패키지\n",
        "hist(n): 히스토그램을 만드는 함수\n",
        "bin: 가로축의 계급"
      ]
    },
    {
      "cell_type": "code",
      "metadata": {
        "id": "CYmOp7T6hkWU"
      },
      "source": [
        "k = np.random.randn(1000000)"
      ],
      "execution_count": 8,
      "outputs": []
    },
    {
      "cell_type": "code",
      "metadata": {
        "colab": {
          "base_uri": "https://localhost:8080/",
          "height": 652
        },
        "id": "fkOSrdv6gODj",
        "outputId": "5d0284c1-e74a-40da-9d1c-a7e9c8aaf64a"
      },
      "source": [
        "import matplotlib\n",
        "matplotlib.pyplot.hist(k, bins = 50)"
      ],
      "execution_count": 11,
      "outputs": [
        {
          "output_type": "execute_result",
          "data": {
            "text/plain": [
              "(array([1.0000e+00, 0.0000e+00, 5.0000e+00, 7.0000e+00, 1.7000e+01,\n",
              "        4.1000e+01, 9.4000e+01, 2.0300e+02, 3.5100e+02, 7.0800e+02,\n",
              "        1.2290e+03, 2.1920e+03, 3.4810e+03, 5.6950e+03, 8.7470e+03,\n",
              "        1.3029e+04, 1.8644e+04, 2.5221e+04, 3.2987e+04, 4.1948e+04,\n",
              "        5.1609e+04, 5.9784e+04, 6.8276e+04, 7.3818e+04, 7.8185e+04,\n",
              "        7.8314e+04, 7.5751e+04, 7.0255e+04, 6.3030e+04, 5.4697e+04,\n",
              "        4.5242e+04, 3.6415e+04, 2.7866e+04, 2.0495e+04, 1.4717e+04,\n",
              "        1.0054e+04, 6.6280e+03, 4.3050e+03, 2.6530e+03, 1.5000e+03,\n",
              "        8.5100e+02, 4.6200e+02, 2.5200e+02, 1.1800e+02, 6.7000e+01,\n",
              "        2.9000e+01, 1.6000e+01, 6.0000e+00, 3.0000e+00, 2.0000e+00]),\n",
              " array([-4.94220627, -4.74595049, -4.5496947 , -4.35343892, -4.15718314,\n",
              "        -3.96092736, -3.76467158, -3.5684158 , -3.37216001, -3.17590423,\n",
              "        -2.97964845, -2.78339267, -2.58713689, -2.3908811 , -2.19462532,\n",
              "        -1.99836954, -1.80211376, -1.60585798, -1.40960219, -1.21334641,\n",
              "        -1.01709063, -0.82083485, -0.62457907, -0.42832328, -0.2320675 ,\n",
              "        -0.03581172,  0.16044406,  0.35669984,  0.55295563,  0.74921141,\n",
              "         0.94546719,  1.14172297,  1.33797875,  1.53423454,  1.73049032,\n",
              "         1.9267461 ,  2.12300188,  2.31925766,  2.51551345,  2.71176923,\n",
              "         2.90802501,  3.10428079,  3.30053657,  3.49679235,  3.69304814,\n",
              "         3.88930392,  4.0855597 ,  4.28181548,  4.47807126,  4.67432705,\n",
              "         4.87058283]),\n",
              " <a list of 50 Patch objects>)"
            ]
          },
          "metadata": {},
          "execution_count": 11
        },
        {
          "output_type": "display_data",
          "data": {
            "image/png": "[encoded data removed]",
            "text/plain": [
              "<Figure size 432x288 with 1 Axes>"
            ]
          },
          "metadata": {
            "needs_background": "light"
          }
        }
      ]
    },
    {
      "cell_type": "markdown",
      "metadata": {
        "id": "llX1qj17iZo0"
      },
      "source": [
        "아래처럼 적는 것이 더 효율적"
      ]
    },
    {
      "cell_type": "code",
      "metadata": {
        "colab": {
          "base_uri": "https://localhost:8080/",
          "height": 370
        },
        "id": "QrRgITfqiZac",
        "outputId": "28893d17-03d5-4734-8ce2-5e38f7ea4a45"
      },
      "source": [
        "import matplotlib.pyplot as plt\n",
        "plt.hist(k)"
      ],
      "execution_count": 13,
      "outputs": [
        {
          "output_type": "execute_result",
          "data": {
            "text/plain": [
              "(array([3.00000e+01, 1.39700e+03, 2.13440e+04, 1.31829e+05, 3.31672e+05,\n",
              "        3.42047e+05, 1.44735e+05, 2.51400e+04, 1.75000e+03, 5.60000e+01]),\n",
              " array([-4.94220627, -3.96092736, -2.97964845, -1.99836954, -1.01709063,\n",
              "        -0.03581172,  0.94546719,  1.9267461 ,  2.90802501,  3.88930392,\n",
              "         4.87058283]),\n",
              " <a list of 10 Patch objects>)"
            ]
          },
          "metadata": {},
          "execution_count": 13
        },
        {
          "output_type": "display_data",
          "data": {
            "image/png": "[encoded data removed]",
            "text/plain": [
              "<Figure size 432x288 with 1 Axes>"
            ]
          },
          "metadata": {
            "needs_background": "light"
          }
        }
      ]
    },
    {
      "cell_type": "markdown",
      "metadata": {
        "id": "HthFzojmjLuB"
      },
      "source": [
        "from --> 최상위 폴더 하에서 이루어짐"
      ]
    },
    {
      "cell_type": "code",
      "metadata": {
        "id": "kCwX-R7hjVG1"
      },
      "source": [
        "from matplotlib import pyplot\n",
        "pyplot.hist(n)"
      ],
      "execution_count": null,
      "outputs": []
    },
    {
      "cell_type": "code",
      "metadata": {
        "id": "5ZWTX-R1jcg7"
      },
      "source": [
        "from matplotlib.pyplot import hist\n",
        "hist(n)"
      ],
      "execution_count": null,
      "outputs": []
    }
  ]
}