{
  "nbformat": 4,
  "nbformat_minor": 0,
  "metadata": {
    "colab": {
      "name": "수업필기.ipynb",
      "provenance": [],
      "collapsed_sections": [],
      "authorship_tag": "ABX9TyNfRK+oFglp27aE/3cXWYVq",
      "include_colab_link": true
    },
    "kernelspec": {
      "name": "python3",
      "display_name": "Python 3"
    },
    "language_info": {
      "name": "python"
    }
  },
  "cells": [
    {
      "cell_type": "markdown",
      "metadata": {
        "id": "view-in-github",
        "colab_type": "text"
      },
      "source": [
        "<a href=\"https://colab.research.google.com/github/hjae0520/class2021Fall/blob/main/%EC%88%98%EC%97%85%ED%95%84%EA%B8%B0.ipynb\" target=\"_parent\"><img src=\"https://colab.research.google.com/assets/colab-badge.svg\" alt=\"Open In Colab\"/></a>"
      ]
    },
    {
      "cell_type": "markdown",
      "metadata": {
        "id": "vWCzKYqp804e"
      },
      "source": [
        "코딩의 세가지\n",
        "변수 (variables) 제어문 (syntax) 함수\n",
        "'a = 1' a라는 변수에 1이라는 값을 할당(=), 숫자뿐만 아니라 글자도 대입 가능.\n",
        " print는 대입된 값을 확인\n",
        " type은 변수의 클래스를 보여줌\n",
        " #을 붙이면 그 함수는 실행하지 않음\n",
        "int 정수, float 소수, string 문자"
      ]
    },
    {
      "cell_type": "code",
      "metadata": {
        "colab": {
          "base_uri": "https://localhost:8080/"
        },
        "id": "lr-QU9at7g_1",
        "outputId": "897e7e39-f8de-41db-bfc5-4a3642b2b9cf"
      },
      "source": [
        "a = 1\n",
        "b = 'hello'\n",
        "c = 1.1\n",
        "#print(a)\n",
        "print(type(a))\n",
        "print(type(b))"
      ],
      "execution_count": 5,
      "outputs": [
        {
          "output_type": "stream",
          "name": "stdout",
          "text": [
            "<class 'int'>\n",
            "<class 'str'>\n"
          ]
        }
      ]
    }
  ]
}